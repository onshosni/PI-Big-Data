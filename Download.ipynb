{
 "cells": [
  {
   "cell_type": "code",
   "execution_count": 1,
   "metadata": {},
   "outputs": [],
   "source": [
    "# download tweets from stocktwits\n",
    "import urllib.request, json\n",
    "import os\n",
    "import sys\n",
    "import datetime\n",
    "import time\n",
    "from urllib.request import Request, urlopen\n",
    "\n",
    "# fetch date and seq for csv file purpose\n",
    "today=datetime.datetime.today().strftime('%Y%m%d')\n",
    "seq=datetime.datetime.today().strftime('%H%M%S')\n"
   ]
  },
  {
   "cell_type": "code",
   "execution_count": 2,
   "metadata": {},
   "outputs": [],
   "source": [
    "# fetch date and seq for csv file purpose\n",
    "today=datetime.datetime.today().strftime('%Y%m%d')\n",
    "seq=datetime.datetime.today().strftime('%H%M%S')"
   ]
  },
  {
   "cell_type": "code",
   "execution_count": 3,
   "metadata": {},
   "outputs": [],
   "source": [
    "#os.getcwd()\n",
    "data_dir='C:\\\\Users\\\\LENOVO\\\\Desktop\\\\Big data PI\\\\Stocktweets'\n",
    "file=data_dir+\"\\\\StockTwits.\"+today+\".\"+seq+\".csv\""
   ]
  },
  {
   "cell_type": "code",
   "execution_count": 4,
   "metadata": {},
   "outputs": [
    {
     "data": {
      "text/plain": [
       "36"
      ]
     },
     "execution_count": 4,
     "metadata": {},
     "output_type": "execute_result"
    }
   ],
   "source": [
    "writer = open(file, 'w')\n",
    "writer.write('ID,Symbol,CreateTime,Body,Sentiment\\n')"
   ]
  },
  {
   "cell_type": "code",
   "execution_count": 7,
   "metadata": {},
   "outputs": [
    {
     "name": "stdout",
     "output_type": "stream",
     "text": [
      "Requirement already satisfied: nbconvert in c:\\users\\lenovo\\anaconda3\\lib\\site-packages (5.6.0)\n",
      "Requirement already satisfied: defusedxml in c:\\users\\lenovo\\anaconda3\\lib\\site-packages (from nbconvert) (0.6.0)\n",
      "Requirement already satisfied: jupyter-core in c:\\users\\lenovo\\anaconda3\\lib\\site-packages (from nbconvert) (4.5.0)\n",
      "Requirement already satisfied: pygments in c:\\users\\lenovo\\anaconda3\\lib\\site-packages (from nbconvert) (2.4.2)\n",
      "Requirement already satisfied: nbformat>=4.4 in c:\\users\\lenovo\\anaconda3\\lib\\site-packages (from nbconvert) (4.4.0)\n",
      "Requirement already satisfied: mistune<2,>=0.8.1 in c:\\users\\lenovo\\anaconda3\\lib\\site-packages (from nbconvert) (0.8.4)\n",
      "Requirement already satisfied: entrypoints>=0.2.2 in c:\\users\\lenovo\\anaconda3\\lib\\site-packages (from nbconvert) (0.3)\n",
      "Requirement already satisfied: jinja2>=2.4 in c:\\users\\lenovo\\anaconda3\\lib\\site-packages (from nbconvert) (2.10.3)\n",
      "Requirement already satisfied: traitlets>=4.2 in c:\\users\\lenovo\\anaconda3\\lib\\site-packages (from nbconvert) (4.3.3)\n",
      "Requirement already satisfied: pandocfilters>=1.4.1 in c:\\users\\lenovo\\anaconda3\\lib\\site-packages (from nbconvert) (1.4.2)\n",
      "Requirement already satisfied: testpath in c:\\users\\lenovo\\anaconda3\\lib\\site-packages (from nbconvert) (0.4.2)\n",
      "Requirement already satisfied: bleach in c:\\users\\lenovo\\anaconda3\\lib\\site-packages (from nbconvert) (3.1.0)\n",
      "Requirement already satisfied: ipython-genutils in c:\\users\\lenovo\\anaconda3\\lib\\site-packages (from nbformat>=4.4->nbconvert) (0.2.0)\n",
      "Requirement already satisfied: jsonschema!=2.5.0,>=2.4 in c:\\users\\lenovo\\anaconda3\\lib\\site-packages (from nbformat>=4.4->nbconvert) (3.0.2)\n",
      "Requirement already satisfied: MarkupSafe>=0.23 in c:\\users\\lenovo\\anaconda3\\lib\\site-packages (from jinja2>=2.4->nbconvert) (1.1.1)\n",
      "Requirement already satisfied: six in c:\\users\\lenovo\\anaconda3\\lib\\site-packages (from traitlets>=4.2->nbconvert) (1.12.0)\n",
      "Requirement already satisfied: decorator in c:\\users\\lenovo\\anaconda3\\lib\\site-packages (from traitlets>=4.2->nbconvert) (4.4.0)\n",
      "Requirement already satisfied: webencodings in c:\\users\\lenovo\\anaconda3\\lib\\site-packages (from bleach->nbconvert) (0.5.1)\n",
      "Requirement already satisfied: attrs>=17.4.0 in c:\\users\\lenovo\\anaconda3\\lib\\site-packages (from jsonschema!=2.5.0,>=2.4->nbformat>=4.4->nbconvert) (19.2.0)\n",
      "Requirement already satisfied: pyrsistent>=0.14.0 in c:\\users\\lenovo\\anaconda3\\lib\\site-packages (from jsonschema!=2.5.0,>=2.4->nbformat>=4.4->nbconvert) (0.15.4)\n",
      "Requirement already satisfied: setuptools in c:\\users\\lenovo\\anaconda3\\lib\\site-packages (from jsonschema!=2.5.0,>=2.4->nbformat>=4.4->nbconvert) (41.4.0)\n"
     ]
    }
   ],
   "source": [
    "!pip install nbconvert"
   ]
  },
  {
   "cell_type": "code",
   "execution_count": 5,
   "metadata": {},
   "outputs": [],
   "source": [
    "#stocks=[\"AAPL\", \"TSLA\", \"FB\"]\n",
    "stocks=[\"FB\"]\n",
    "\n",
    "rows=0\n",
    "batches=50"
   ]
  },
  {
   "cell_type": "code",
   "execution_count": 6,
   "metadata": {},
   "outputs": [
    {
     "name": "stdout",
     "output_type": "stream",
     "text": [
      "------------------------------------------------------------------------------\n",
      "<urllib.request.Request object at 0x0000025737E43588>\n",
      "iteration:0 FB,True,254650775,254636968\n",
      "    254636703,FB,2020-11-05T17:56:14Z,b'New monthly highs \\n$GE $TLRY $SOLO $FB $JMIA  \\n \\n+72 more results \\nstockbeep.com/mhi-nov5p',None\n",
      "iteration:1 FB,True,254636703,254627080\n",
      "    254627065,FB,2020-11-05T17:21:15Z,b'$FB 290 in half an hour.',None\n",
      "iteration:2 FB,True,254627065,254618268\n",
      "    254617870,FB,2020-11-05T16:47:47Z,b'$FB gap to fill @ $298.60\\xe2\\xac\\x86\\xef\\xb8\\x8f\\xf0\\x9f\\x90\\x82',Bullish\n",
      "iteration:3 FB,True,254617870,254612429\n",
      "    254612424,FB,2020-11-05T16:28:20Z,b'$FB   Vol pop BBRG mentions that India permits WhatsApp payments service to go live (sm)',Bullish\n",
      "iteration:4 FB,True,254612424,254603463\n",
      "    254602917,FB,2020-11-05T15:56:55Z,b'$FB Shorties don\\xe2\\x80\\x99t want to admit they started their positions at $275 \\xf0\\x9f\\xa4\\xa3\\xf0\\x9f\\xa4\\xa3',Bullish\n",
      "iteration:5 FB,True,254602917,254593989\n",
      "    254593212,FB,2020-11-05T15:27:34Z,b'$NVDA blood red on deck today menu !!!!!!! $aapl $baba $fb $amzn',Bearish\n",
      "iteration:6 FB,True,254593212,254579453\n",
      "    254578816,FB,2020-11-05T14:49:10Z,b'$FB insider news coming out feds ganna speak in afternoon',Bearish\n",
      "iteration:7 FB,True,254578816,254560424\n",
      "    254559490,FB,2020-11-05T13:39:11Z,b'SmartOptions\\xc2\\xae Unusual Activity Alert\\n(Delayed)\\n\\n$FB $210 Calls\\nNov 06 Exp \\n\\nTrade Volume: 180 Contracts\\n\\n$1#296#000 was traded just now.\\n\\nCurrent Stock Price: $284.14\\n\\nFollow the Money &amp; Trade Options with Our SmartOptions\\xc2\\xae Artificial Intelligence.  \\nSmartOptions.ai',Bullish\n",
      "iteration:8 FB,True,254559490,254537764\n",
      "    254537712,FB,2020-11-05T11:29:29Z,b'$SNAP Wowwww whats app bringing new features. Sell this garbage $SNAP and buy a real company like $FB',None\n",
      "iteration:9 FB,True,254537712,254521086\n",
      "    254520308,FB,2020-11-05T05:53:05Z,b'$FB NEW ARTICLE : From Facebook to Reddit# how Silicon Valley salary adjustments could redefine remote worker earnings https://www.stck.pro/news/FB/8943292',None\n",
      "iteration:10 FB,True,254520308,254507302\n",
      "    254507281,FB,2020-11-05T03:05:30Z,b'The alerts came out swinging at open. Setting us up for some easy money. Check the discord link. $SHOP $DKNG $WDAY $FB',None\n",
      "iteration:11 FB,True,254507281,254488738\n",
      "    254488657,FB,2020-11-05T00:33:04Z,b'$FB 1-hour view from 10/10 Weekend Update. Showing reaction higher taking place from the blue box area. Allowed longs to get into risk-free position. elliottwave-forecast.com/plan-trial/ #Elliottwave #Trading #Facebook',None\n",
      "iteration:12 FB,True,254488657,254467308\n",
      "    254466993,FB,2020-11-04T22:21:59Z,b'$FB stock analysis. \\xf0\\x9f\\x94\\xa5https://youtu.be/2juuGoZN1_c',None\n",
      "iteration:13 FB,True,254466993,254446852\n",
      "    254445793,FB,2020-11-04T21:06:00Z,b'$AAPL $FB $PYPL we looking at another 4% day tomo?',Bullish\n",
      "iteration:14 FB,True,254445793,254432360\n",
      "    254431557,FB,2020-11-04T20:06:45Z,b'SmartOptions\\xc2\\xae Unusual Activity Alert\\n(Delayed)\\n\\n$FB $210 Calls\\nNov 06 Exp \\n\\nTrade Volume: 180 Contracts\\n\\n$1#296#000 was traded just now.\\n\\nCurrent Stock Price: $284.14\\n\\nFollow the Money &amp; Trade Options with Our SmartOptions\\xc2\\xae Artificial Intelligence.  \\nSmartOptions.ai',Bullish\n",
      "iteration:15 FB,True,254431557,254423155\n",
      "    254422566,FB,2020-11-04T19:26:30Z,b'$FB This buy seems to really be upsetting clown boy lol',Bullish\n",
      "iteration:16 FB,True,254422566,254413274\n",
      "    254412833,FB,2020-11-04T18:43:00Z,b'$SPY sell off!!!!\\n\\n$amzn $amd $aapl $fb',Bearish\n",
      "iteration:17 FB,True,254412833,254401569\n",
      "    254401530,FB,2020-11-04T17:54:40Z,b'$FB---Strong long today',None\n",
      "iteration:18 FB,True,254401530,254394548\n",
      "    254394048,FB,2020-11-04T17:26:25Z,b'$FB $290++ eod',Bullish\n",
      "iteration:19 FB,True,254394048,254377056\n",
      "    254376695,FB,2020-11-04T16:23:30Z,b'$FB being it down to 276',Bearish\n",
      "iteration:20 FB,True,254376695,254365321\n",
      "    254365172,FB,2020-11-04T15:44:02Z,b'$FB shows a strong growth in EPS: 40.26%. https://www.chartmill.com/stock/analyzer/stock/FB?view=fundamental-analysis&amp;key=131a58de-6f11-4987-976d-55bb2ea98644&amp;utm_source=stocktwits&amp;utm_medium=FA&amp;utm_content=FB&amp;utm_campaign=social_tracking',None\n",
      "iteration:21 FB,True,254365172,254355416\n",
      "    254354561,FB,2020-11-04T15:10:53Z,b'$FB be careful \\xf0\\x9f\\x91\\x80',None\n",
      "iteration:22 FB,True,254354561,254341518\n",
      "    254341254,FB,2020-11-04T14:29:25Z,b'dislocations overnight. funny how the $USD  $UUP says WTF just happened last night.   $FB (and others) say# trust me. I know who won :-)    I don&#39;t remember many instances where stocks outsmart currencies.',None\n",
      "iteration:23 FB,True,254341254,254334297\n",
      "    254334296,FB,2020-11-04T13:58:35Z,b'https://chrt.biz/FB/123513gt696/chart/ $FB peep this if we breakout be on the lookout for this to make a huge move back to the green line',None\n",
      "iteration:24 FB,True,254334296,254323768\n",
      "    254323713,FB,2020-11-04T13:01:04Z,b'$FB 1-hour view from 10/10 Weekend Update. Showing reaction higher taking place from the blue box area. Allowed longs to get into risk-free position  #Elliottwave #Trading #Facebook',None\n",
      "iteration:25 FB,True,254323713,254301387\n",
      "    254301296,FB,2020-11-04T07:45:04Z,b'$SPY $QQQ  $FB  My puts be like...',Bearish\n",
      "iteration:26 FB,True,254301296,254284385\n",
      "    254283775,FB,2020-11-04T04:23:27Z,b'$MSFT $FB $AAPL $NVDA markets sensing red wave and same setup of senate and house. Means delayed stimulus and hence\\nNasdaq futures ripping higer. Value did climaxed today! Some may have got trapped in past 2 days.',Bullish\n",
      "iteration:27 FB,True,254283775,254264042\n",
      "    254262495,FB,2020-11-04T01:59:06Z,b'$FB Zucky is a douche bag...\\n\\nCarpe Donktum meme \\n\\nSays it all. F bombs galore against the demons and tyrants \\n\\nViewer discretion advised \\xf0\\x9f\\xa4\\xa3\\xf0\\x9f\\x98\\x82\\xf0\\x9f\\xa4\\xa3\\xf0\\x9f\\x98\\x82\\xf0\\x9f\\xa4\\xa3\\xf0\\x9f\\x99\\x8f\\xf0\\x9f\\x99\\x8f\\n\\nTrump 2020\\n\\nhttps://video.parler.com/X5/JO/X5JOgMVN5LEN_small.mp4',None\n",
      "iteration:28 FB,True,254262495,254234225\n",
      "    254232467,FB,2020-11-03T22:29:05Z,b'$FB stock analysis.  https://youtu.be/VfMrnizo7mw',None\n",
      "iteration:29 FB,True,254232467,254199477\n",
      "    254197866,FB,2020-11-03T20:10:11Z,b'Facebook makes more money per user than rivals# but it&#39;s running out of growth options\\n\\xe2\\x80\\x94 CNBC\\n$FB',None\n",
      "iteration:30 FB,True,254197866,254180295\n",
      "    254180017,FB,2020-11-03T18:58:25Z,b'$AAPL $NFLX $SPY  $FB  since most people here have less than stellar reading comprehension skills... a PHOTO for your simple brains.. enough of the BS',None\n",
      "iteration:31 FB,True,254180017,254165602\n",
      "    254163127,FB,2020-11-03T17:50:36Z,b'Tuesday Trade Recap +$721.53 on $BBGI# $FB and $AVPO\\n\\nhttps://www.youtube.com/watch?v=HUE543CxHA4',None\n",
      "iteration:32 FB,True,254163127,254134024\n",
      "    254133841,FB,2020-11-03T16:05:22Z,b'$FB Trading on low volume. Yikes!',Bearish\n",
      "iteration:33 FB,True,254133841,254117139\n",
      "    254117056,FB,2020-11-03T15:14:23Z,b'$FB  $270\\xf0\\x9f\\xa4\\x91\\xf0\\x9f\\x9a\\x80\\xf0\\x9f\\x94\\xa5',None\n",
      "iteration:34 FB,True,254117056,254099944\n",
      "    254098896,FB,2020-11-03T14:20:22Z,b'WallStFirm Equity Research Alert (Delayed) \\n\\n$FB Resistance Area: $279.34\\n\\nPrice Support Area: $256.10\\n\\nReal-Time Equity &amp; Options Research: wallstfirm.com',Bullish\n",
      "iteration:35 FB,True,254098896,254071234\n",
      "    254071001,FB,2020-11-03T11:36:17Z,b'$FB CHOOOOOO-CHOOOOOO \\xf0\\x9f\\x9a\\x82',None\n",
      "iteration:36 FB,True,254071001,254042023\n",
      "    254040692,FB,2020-11-03T02:25:12Z,b'confidence in market volatility \\xf0\\x9f\\x91\\x8c\\nbeen playing the same supports and resistances on FAANG stocks as well as $SPY\\n\\n $FB $AMZN $AAPL $NFLX',Bullish\n",
      "iteration:37 FB,True,254040692,254018211\n",
      "    254017251,FB,2020-11-02T23:15:59Z,b'$FB $MSFT $AAPL $NVDA Cramer just summed it right...JP Morgan call today to dump growth and buy value was behind the action of Cyclicals rally today. But Cramer said it was more like eject button for some to get out of value including his trust. In a nut shell with covid resurgence and stimulus out far# tech and growth is the way to go and not cyclicals. Markets realized and nasdaq regained some lost ground. Don\\xe2\\x80\\x99t fall for value traps.',Bullish\n",
      "iteration:38 FB,True,254017251,253995115\n",
      "    253994079,FB,2020-11-02T21:22:00Z,b'$FB shows a strong growth in Revenue. In the last year# the Revenue has grown by 20.05%. https://www.chartmill.com/stock/quote/FB/fundamental-analysis?key=131a58de-6f11-4987-976d-55bb2ea98644&amp;utm_source=stocktwits&amp;utm_medium=FA&amp;utm_content=FB&amp;utm_campaign=social_tracking',None\n",
      "iteration:39 FB,True,253994079,253966765\n",
      "    253963857,FB,2020-11-02T19:29:33Z,b'So# Did The #Options Market Get It Right? $AAPL $AMZN $GOOG $FB Also $NDX https://talkmarkets.com/content/us-markets/so-did-the-options-market-get-it-right?post=283959',None\n",
      "iteration:40 FB,True,253963857,253955389\n",
      "    253955325,FB,2020-11-02T18:54:42Z,b'$FB OKKKKK WTF is happening THE stock is tanking but the CALL options are litteraly spiking up PLease EXPLAIN',Bullish\n",
      "iteration:41 FB,True,253955325,253942836\n",
      "    253942761,FB,2020-11-02T18:03:40Z,b'$FB $MSFT $QQQ  $SPY $AAPL Tech sector still over 27% of SPY/SPX and MSFT-AAPL 40%+ of tech sector.',None\n",
      "iteration:42 FB,True,253942761,253934276\n",
      "    253933845,FB,2020-11-02T17:27:18Z,b'$FB SUCKS SELL NOW !!!',Bearish\n",
      "iteration:43 FB,True,253933845,253920080\n",
      "    253919934,FB,2020-11-02T16:33:09Z,b'$SPY $QQQ $AAPL $FB $DYD Remember# Algos are programmed by Humans and Humans are predictably greedy. There is not an AI yet# just a bunch a rich people and entities that want to take your money. They get the information first and feed it to their decision making systems. You have to think ahead.',None\n",
      "iteration:44 FB,True,253919934,253900682\n",
      "    253899732,FB,2020-11-02T15:20:56Z,b'$FB will touch 275 today',Bullish\n",
      "iteration:45 FB,True,253899732,253887098\n",
      "    253886730,FB,2020-11-02T14:40:22Z,b'$FB lets get it back to 280',None\n",
      "iteration:46 FB,True,253886730,253874621\n",
      "    253874515,FB,2020-11-02T13:48:20Z,b'For group 3 this week# we are still looking for $SPY to reach lower to equal leg# and some other names also that have extreme areas below the Sep low.  $NKE has already reached the extreme area where buyers may enter for a bounce in 3 swing at least.  We do not favour selling these names right now# nor tech names like $FB# AMZN# $AAPL# $TSLA.  Although they can head lower# the right side on longer time frames is bullish. #Elliottwave #Trading #Stocks #USelection',None\n",
      "iteration:47 FB,True,253874515,253848087\n",
      "    253848002,FB,2020-11-02T08:42:29Z,b'$FB Facebook Fails At Curbing False Political Ads Ahead Of US Election: WSJ \\n\\nhttps://newsfilter.io/a/35831d3868100160ab967c66826bffd0',None\n",
      "iteration:48 FB,True,253848002,253830623\n",
      "    253829902,FB,2020-11-02T01:59:43Z,b'$AMZN $AAPL $ZM  $SPY $FB  hold long\\xf0\\x9f\\x93\\x88\\xf0\\x9f\\x92\\xb0\\xe2\\x9c\\x94\\xef\\xb8\\x8f',Bullish\n",
      "iteration:49 FB,True,253829902,253816879\n",
      "    253816833,FB,2020-11-01T23:21:14Z,b'$SPY im chillin i want this to go down further so i can go shopping with all the deals $TSLA  $FB  $WWE  $MOMO',None\n",
      "Written 1500 rows to file: C:\\Users\\LENOVO\\Desktop\\Big data PI\\Stocktweets\\StockTwits.20201105.194611.csv\n"
     ]
    }
   ],
   "source": [
    "try:\n",
    "    for stock in stocks:\n",
    "        url=Request(\"https://api.stocktwits.com/api/2/streams/symbol/\"+stock+\".json\", headers={'User-Agent' :'Mozilla/5.0'})\n",
    "        print('------------------------------------------------------------------------------')\n",
    "        print(url)\n",
    "        with urllib.request.urlopen(url) as urlobj:\n",
    "            json_data = json.loads(urlobj.read().decode())\n",
    "            symbol=json_data['symbol']\n",
    "            cursor=json_data['cursor']\n",
    "            more=cursor['more']\n",
    "            since=cursor['since']\n",
    "            maxid=cursor['max']\n",
    "            iter=0\n",
    "            while more and iter < batches:\n",
    "                #time.sleep(1) #sec\n",
    "                print('iteration:{0} {1},{2},{3},{4}'.format(iter, stock, more, since, maxid))\n",
    "                url=Request(\"https://api.stocktwits.com/api/2/streams/symbol/\"+stock+\".json?max=\"+str(maxid) , headers={'User-Agent' :'Mozilla/5.0'})\n",
    "                urlobj2=urllib.request.urlopen(url)\n",
    "                json_data = json.loads(urlobj2.read().decode())\n",
    "                #symbol=json_data['symbol']\n",
    "                cursor=json_data['cursor']\n",
    "                more=cursor['more']\n",
    "                since=cursor['since']\n",
    "                maxid=cursor['max']\n",
    "                iter=iter+1\n",
    "                for message in json_data['messages']:\n",
    "                    # replace ',' with '#' as output is csv file\n",
    "                    # replace unprintable chars with unicode chars\n",
    "                    \n",
    "                    adj_body=message['body'].replace(\",\",\"#\").encode(sys.stdout.encoding, errors='replace')\n",
    "                    sentiment=\"None\"\n",
    "                    if message['entities']['sentiment']:\n",
    "                        sentiment=message['entities']['sentiment']['basic']\n",
    "                    if rows % 30 == 0:\n",
    "                        print('    {0},{1},{2},{3},{4}'.format(message['id'], stock, message['created_at'], adj_body, sentiment))\n",
    "                    # build the csv row\n",
    "                    row=str(message['id'])+\",\"+stock+\",\"+message['created_at']+\",\"+str(adj_body)+\",\"+sentiment+\"\\n\"\n",
    "                    writer.write(row)\n",
    "                    rows=rows+1\n",
    "finally:\n",
    "    writer.close()\n",
    "            \n",
    "print(\"Written {0} rows to file: {1}\".format(rows, file)) \n"
   ]
  },
  {
   "cell_type": "code",
   "execution_count": null,
   "metadata": {},
   "outputs": [],
   "source": []
  }
 ],
 "metadata": {
  "kernelspec": {
   "display_name": "Python 3",
   "language": "python",
   "name": "python3"
  },
  "language_info": {
   "codemirror_mode": {
    "name": "ipython",
    "version": 3
   },
   "file_extension": ".py",
   "mimetype": "text/x-python",
   "name": "python",
   "nbconvert_exporter": "python",
   "pygments_lexer": "ipython3",
   "version": "3.7.4"
  }
 },
 "nbformat": 4,
 "nbformat_minor": 4
}
